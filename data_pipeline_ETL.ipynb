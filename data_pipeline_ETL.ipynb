{
 "cells": [
  {
   "cell_type": "markdown",
   "id": "ec6483d7",
   "metadata": {},
   "source": [
    "### 1. Load the Data files"
   ]
  },
  {
   "cell_type": "code",
   "execution_count": null,
   "id": "18dd6054",
   "metadata": {},
   "outputs": [],
   "source": [
    "#importing relevant libraries for reading datasets\n",
    "import csv\n",
    "from csv import reader\n",
    "from xml.dom import minidom\n",
    "import json"
   ]
  },
  {
   "cell_type": "markdown",
   "id": "a074e6ae",
   "metadata": {},
   "source": [
    "#### 1.1. Load the csv data"
   ]
  },
  {
   "cell_type": "code",
   "execution_count": null,
   "id": "ac807c24",
   "metadata": {},
   "outputs": [],
   "source": [
    "def read_csv_file(file):\n",
    "    db_list = []\n",
    "    with open(file, 'r') as csv_file:\n",
    "        csv_db = csv.DictReader(csv_file)\n",
    "        for entry in csv_db:\n",
    "            db_list.append(entry)\n",
    "    return db_list"
   ]
  },
  {
   "cell_type": "code",
   "execution_count": null,
   "id": "9bb9e093",
   "metadata": {},
   "outputs": [],
   "source": [
    "csv_db = read_csv_file('user_data.csv')"
   ]
  },
  {
   "cell_type": "markdown",
   "id": "cecb0c74",
   "metadata": {},
   "source": [
    "#### 1.2. Load the XML data"
   ]
  },
  {
   "cell_type": "code",
   "execution_count": null,
   "id": "d397f5c8",
   "metadata": {},
   "outputs": [],
   "source": [
    "\n",
    "def read_xml_file(file):\n",
    "    data = minidom.parse(file) #parse xml file\n",
    "    users = data.getElementsByTagName('user') #getting users data from the user tag\n",
    "    #converting the users data into list of dictionaries\n",
    "    xml_list = []\n",
    "    for user in users:\n",
    "        xml_data = {}\n",
    "        xml_data['First Name'] = user.attributes['firstName'].value\n",
    "        xml_data['Last Name'] = user.attributes['lastName'].value\n",
    "        xml_data['age'] = user.attributes['age'].value\n",
    "        xml_data['sex'] = user.attributes['sex'].value\n",
    "        xml_data['retired'] = user.attributes['retired'].value\n",
    "        xml_data['dependants'] = user.attributes['dependants'].value\n",
    "        xml_data['marital_status'] = user.attributes['marital_status'].value\n",
    "        xml_data['salary'] = user.attributes['salary'].value\n",
    "        xml_data['pension'] = user.attributes['pension'].value\n",
    "        xml_data['company'] = user.attributes['company'].value\n",
    "        xml_data['commute_distance'] = user.attributes['commute_distance'].value\n",
    "        xml_data['address_postcode'] = user.attributes['address_postcode'].value\n",
    "        xml_list.append(xml_data)\n",
    "    \n",
    "    return xml_list"
   ]
  },
  {
   "cell_type": "code",
   "execution_count": null,
   "id": "8c6324db",
   "metadata": {},
   "outputs": [],
   "source": [
    "users_xml = read_xml_file('user_data.xml')"
   ]
  },
  {
   "cell_type": "markdown",
   "id": "e43d0c82",
   "metadata": {},
   "source": [
    "#### 1.3. Load the JSON Data"
   ]
  },
  {
   "cell_type": "code",
   "execution_count": null,
   "id": "04c78b02",
   "metadata": {},
   "outputs": [],
   "source": [
    "def read_json(file):\n",
    "    with open(file, 'r') as json_db:\n",
    "        json_data = json.load(json_db)\n",
    "    return json_data"
   ]
  },
  {
   "cell_type": "code",
   "execution_count": null,
   "id": "59b460a7",
   "metadata": {},
   "outputs": [],
   "source": [
    "users_json = read_json('user_data.json')"
   ]
  },
  {
   "cell_type": "code",
   "execution_count": null,
   "id": "9f392fc0",
   "metadata": {},
   "outputs": [],
   "source": [
    "#printing datasets\n",
    "from pprint import pprint\n",
    "print(len(users_json))\n",
    "pprint(users_json)\n"
   ]
  },
  {
   "cell_type": "code",
   "execution_count": null,
   "id": "8d27d8b8",
   "metadata": {},
   "outputs": [],
   "source": [
    "print(len(users_xml))\n",
    "pprint(users_xml)\n"
   ]
  },
  {
   "cell_type": "code",
   "execution_count": null,
   "id": "9941a74b",
   "metadata": {},
   "outputs": [],
   "source": [
    "print(len(csv_db))\n",
    "pprint(csv_db)\n"
   ]
  },
  {
   "cell_type": "markdown",
   "id": "22a1bbc7",
   "metadata": {},
   "source": [
    "### 2. Merge the Datasets"
   ]
  },
  {
   "cell_type": "code",
   "execution_count": null,
   "id": "692ce547",
   "metadata": {},
   "outputs": [],
   "source": [
    "def merge(csv_data, json_data, xml_data):\n",
    "    csv_json = [] #declaring an empty list for storing merged csv & json data\n",
    "    #creating a nested for-loop to iterate through the dataset and join the csv & json data based on first name, lastname, age \n",
    "    for csv in csv_data: \n",
    "        for json in json_data: \n",
    "            if json['firstName'] == csv['First Name'] and json['lastName'] == csv['Second Name'] and json['age'] == int(csv['Age (Years)']):\n",
    "                json['Sex'] = csv['Sex']\n",
    "                json['Vehicle Make'] = csv['Vehicle Make']\n",
    "                json['Vehicle Model'] = csv['Vehicle Model']\n",
    "                json['Vehicle Type'] = csv['Vehicle Type']\n",
    "                json['Vehicle Year'] = csv['Vehicle Year']\n",
    "                csv_json.append(json)\n",
    "    merged_data = [] #initializing an empty list for storing the merged data\n",
    "    #creating a nested for loop for merging the csv_json data with the xml data based on first name, last name, sex & age\n",
    "    for xml in xml_data:\n",
    "        for cj in csv_json:\n",
    "            if cj['firstName'] == xml['First Name'] and cj['lastName'] == xml['Last Name'] and cj['age'] == int(xml['age']) and cj['Sex'] == xml['sex']:\n",
    "                cj['commute_distance'] = float(xml['commute_distance'])\n",
    "                cj['company'] = xml['company']\n",
    "                # due to inconsistencies in the dependants data we will use try-except to avoid errors\n",
    "                try:\n",
    "                    cj['dependants'] = int(xml['dependants'])\n",
    "                except ValueError:\n",
    "                    cj['dependants'] = 0\n",
    "                cj['marital_status'] = xml['marital_status']\n",
    "                cj['pension'] = float(xml['pension'])\n",
    "                cj['retired'] = xml['retired']\n",
    "                cj['salary'] = float(xml['salary'])\n",
    "                merged_data.append(cj)      \n",
    "    \n",
    "    return merged_data"
   ]
  },
  {
   "cell_type": "code",
   "execution_count": null,
   "id": "8567f80a",
   "metadata": {},
   "outputs": [],
   "source": [
    "users_merged = merge(csv_db, users_json, users_xml)"
   ]
  },
  {
   "cell_type": "code",
   "execution_count": null,
   "id": "5d508ced",
   "metadata": {},
   "outputs": [],
   "source": [
    "print(len(users_merged))\n",
    "pprint(users_merged)"
   ]
  },
  {
   "cell_type": "markdown",
   "id": "dab151fa",
   "metadata": {},
   "source": [
    "### 3. Modify the Datasets based on Txt file"
   ]
  },
  {
   "cell_type": "code",
   "execution_count": null,
   "id": "a2b180f2",
   "metadata": {},
   "outputs": [],
   "source": [
    "class Change():\n",
    "    \"\"\"\n",
    "    A class that changes the value of the dataset\n",
    "    \"\"\"\n",
    "    def __init__(self, data_list):\n",
    "        self.data = data_list\n",
    "    \n",
    "    #creating a function that iterates through the data and finds a first & last name that aligns and changes security code\n",
    "    def change_sec_code(self, first_name, last_name, new_code):\n",
    "        for user in self.data:\n",
    "            if user['firstName'] == first_name and user['lastName'] == last_name:\n",
    "                user['credit_card_security_code'] = new_code\n",
    "                modified_data = user\n",
    "        return modified_data\n",
    "    \n",
    "    #creating a function that increases the user salary based on first name & company\n",
    "    def increase_salary(self, first_name, company, increase):\n",
    "        for user in self.data:\n",
    "            if user['firstName'] == first_name and user['company'] == company:\n",
    "                user['salary'] = user['salary'] + increase\n",
    "                modified_data = user\n",
    "        return modified_data\n",
    "    \n",
    "    #creating a function that changes age based on first name and last name\n",
    "    def change_age(self, first_name, last_name, age):\n",
    "        for user in self.data:\n",
    "            if user['firstName'] == first_name and user['lastName'] == last_name:\n",
    "                user['age'] = age\n",
    "                modified_data = user\n",
    "        return modified_data\n",
    "    \n",
    "    #creating a function that changes pension based on last name and pension\n",
    "    def change_pension(self, last_name, pension_value, percentage_increase ):\n",
    "        for user in self.data:\n",
    "            if user['lastName'] == last_name and user['pension'] == pension_value:\n",
    "                user['pension'] = round((percentage_increase*0.01 +1) * user['pension'], 2)\n",
    "                modified_data = user\n",
    "        return modified_data\n",
    "    "
   ]
  },
  {
   "cell_type": "markdown",
   "id": "76d3e493",
   "metadata": {},
   "source": [
    "#### 3.1. Change Security code using firstname and last name"
   ]
  },
  {
   "cell_type": "code",
   "execution_count": null,
   "id": "c5cbe8df",
   "metadata": {},
   "outputs": [],
   "source": [
    "#Creating an object of the class change to change the dataset based on different criteria\n",
    "updated_list = Change(users_merged)"
   ]
  },
  {
   "cell_type": "code",
   "execution_count": null,
   "id": "f87a0ba0",
   "metadata": {},
   "outputs": [],
   "source": [
    "updated_list.change_sec_code(\"Shane\",\"Chambers\", 935)"
   ]
  },
  {
   "cell_type": "markdown",
   "id": "333933ea",
   "metadata": {},
   "source": [
    "#### 3.2. Change salary using first name and company"
   ]
  },
  {
   "cell_type": "code",
   "execution_count": null,
   "id": "dd2c333e",
   "metadata": {},
   "outputs": [],
   "source": [
    "updated_list.increase_salary(\"Joshua\", \"Lewis-Johnson\", 2100)"
   ]
  },
  {
   "cell_type": "markdown",
   "id": "9a2a8626",
   "metadata": {},
   "source": [
    "#### 3.3. Change age using surname and first name"
   ]
  },
  {
   "cell_type": "code",
   "execution_count": null,
   "id": "721229e6",
   "metadata": {},
   "outputs": [],
   "source": [
    "updated_list.change_age(\"Suzanne\", \"Wright\", 37)"
   ]
  },
  {
   "cell_type": "markdown",
   "id": "9aeac61e",
   "metadata": {},
   "source": [
    "#### 3.4. Change pension using exiting pension and first name"
   ]
  },
  {
   "cell_type": "code",
   "execution_count": null,
   "id": "40bae220",
   "metadata": {},
   "outputs": [],
   "source": [
    "updated_list.change_pension(\"Dunn\", 22358, 15)"
   ]
  },
  {
   "cell_type": "markdown",
   "id": "9532b35c",
   "metadata": {},
   "source": [
    "### 4. Clean Data"
   ]
  },
  {
   "cell_type": "code",
   "execution_count": null,
   "id": "94885078",
   "metadata": {},
   "outputs": [],
   "source": [
    "users_data = updated_list.data"
   ]
  },
  {
   "cell_type": "markdown",
   "id": "e2c6223c",
   "metadata": {},
   "source": [
    "Some inputs have debt while some don't and some of them are dict type while others are text. we will split the dict type to enable us store the different keys in the dict as a separate column in our db."
   ]
  },
  {
   "cell_type": "code",
   "execution_count": null,
   "id": "29d09833",
   "metadata": {},
   "outputs": [],
   "source": [
    "def split_debt_input(dataset):\n",
    "    for user in dataset:\n",
    "        if 'debt' in user.keys():\n",
    "            if(type(user['debt'])) is dict:\n",
    "                user['debt_time_period_years'] = user['debt']['time_period_years']\n",
    "                user['debt'] = user['debt']['amount']\n",
    "    return dataset"
   ]
  },
  {
   "cell_type": "code",
   "execution_count": null,
   "id": "990ee566",
   "metadata": {},
   "outputs": [],
   "source": [
    "split_debt_input(users_data)"
   ]
  },
  {
   "cell_type": "code",
   "execution_count": null,
   "id": "6b3c86ac",
   "metadata": {},
   "outputs": [],
   "source": [
    "len(users_data)"
   ]
  },
  {
   "cell_type": "markdown",
   "id": "f572db35",
   "metadata": {},
   "source": [
    "## B. SQL Database"
   ]
  },
  {
   "cell_type": "code",
   "execution_count": null,
   "id": "ebc8e3fd",
   "metadata": {},
   "outputs": [],
   "source": [
    "#importing pony orm & sqlite library\n",
    "from pony.orm import *\n",
    "import sqlite3"
   ]
  },
  {
   "cell_type": "code",
   "execution_count": null,
   "id": "8785ec3a",
   "metadata": {},
   "outputs": [],
   "source": [
    "#creating a new database and opening a connection to allow us work with it\n",
    "sqlite_db = sqlite3.connect(\"User_db\")"
   ]
  },
  {
   "cell_type": "code",
   "execution_count": null,
   "id": "6941c9a6",
   "metadata": {},
   "outputs": [],
   "source": [
    "#next we will create the database object"
   ]
  },
  {
   "cell_type": "code",
   "execution_count": null,
   "id": "18f2ab99",
   "metadata": {},
   "outputs": [],
   "source": [
    "db = Database()"
   ]
  },
  {
   "cell_type": "code",
   "execution_count": null,
   "id": "c20a03c1",
   "metadata": {},
   "outputs": [],
   "source": [
    "#creating the \"User\" entity and its attributes"
   ]
  },
  {
   "cell_type": "code",
   "execution_count": null,
   "id": "625f93d6",
   "metadata": {},
   "outputs": [],
   "source": [
    "class User(db.Entity):\n",
    "    first_name = Required(str)\n",
    "    second_name = Required(str)\n",
    "    age = Required(int)\n",
    "    iban = Required(str)\n",
    "    credit_card_number = Required(str)\n",
    "    iban = Required(str)\n",
    "    credit_card_number = Required(str)\n",
    "    credit_card_security_code = Required(str)\n",
    "    credit_card_start_date = Required(str)\n",
    "    credit_card_end_date = Required(str)\n",
    "    address_main = Required(str)\n",
    "    address_city = Required(str)\n",
    "    address_postcode = Required(str)\n",
    "    debt = Optional(str)\n",
    "    debt_time_period = Optional(int)\n",
    "    Sex = Required(str)\n",
    "    Vehicle_Make = Required(str)\n",
    "    Vehicle_Model = Required(str)\n",
    "    Vehicle_Type = Required(str)\n",
    "    Vehicle_Year = Required(str)\n",
    "    commute_distance = Required(float)\n",
    "    company = Required(str)\n",
    "    dependants = Required(int)\n",
    "    marital_status = Required(str)\n",
    "    pension = Required(float)\n",
    "    retired = Required(str)\n",
    "    salary = Required(float)"
   ]
  },
  {
   "cell_type": "code",
   "execution_count": null,
   "id": "a68a6f75",
   "metadata": {},
   "outputs": [],
   "source": [
    "#using the bind function to attach the User entity to the database"
   ]
  },
  {
   "cell_type": "code",
   "execution_count": null,
   "id": "09c2319c",
   "metadata": {},
   "outputs": [],
   "source": [
    "db.bind('sqlite', 'C:/Users/HP OMEN/Documents/Programming/Data Science/Data Science Renewed/pythonassignment/Data/User_db')"
   ]
  },
  {
   "cell_type": "code",
   "execution_count": null,
   "id": "031f511b",
   "metadata": {},
   "outputs": [],
   "source": [
    "#creating the database tables for persisting our data using the generate mapping function"
   ]
  },
  {
   "cell_type": "code",
   "execution_count": null,
   "id": "cbf820ed",
   "metadata": {},
   "outputs": [],
   "source": [
    "db.generate_mapping(create_tables=True)"
   ]
  },
  {
   "cell_type": "code",
   "execution_count": null,
   "id": "68f64ba4",
   "metadata": {},
   "outputs": [],
   "source": [
    "#for printing the sql code while running our script\n",
    "sql_debug(True)"
   ]
  },
  {
   "cell_type": "code",
   "execution_count": null,
   "id": "c90b56dc",
   "metadata": {},
   "outputs": [],
   "source": [
    "#creating entity instances/objects of our user entity"
   ]
  },
  {
   "cell_type": "code",
   "execution_count": null,
   "id": "0c31b5d1",
   "metadata": {},
   "outputs": [],
   "source": [
    "#since we have little discrepancies in out data we will use a if-elif-else statement to ensure that all the data is parsed\n",
    "# based on the differences in the debt column"
   ]
  },
  {
   "cell_type": "code",
   "execution_count": null,
   "id": "a9881543",
   "metadata": {},
   "outputs": [],
   "source": [
    "for user in users_data:\n",
    "    if 'debt' and 'debt_time_period_years' in user.keys():\n",
    "        user_db = User(\n",
    "        first_name = user['firstName'],\n",
    "        second_name = user['lastName'],\n",
    "        age = user['age'],\n",
    "        iban = user['iban'],\n",
    "        credit_card_number = user['credit_card_number'],\n",
    "        credit_card_security_code = str(user['credit_card_security_code']),\n",
    "        credit_card_start_date = user['credit_card_start_date'],\n",
    "        credit_card_end_date = user['credit_card_end_date'],\n",
    "        address_main = user['address_main'],\n",
    "        address_city = user['address_city'],\n",
    "        address_postcode = user['address_postcode'],\n",
    "        debt = user['debt'],\n",
    "        debt_time_period = user['debt_time_period_years'],\n",
    "        Sex = user['Sex'],\n",
    "        Vehicle_Make = user['Vehicle Make'],\n",
    "        Vehicle_Model = user['Vehicle Model'],\n",
    "        Vehicle_Type = user['Vehicle Type'],\n",
    "        Vehicle_Year = user['Vehicle Year'],\n",
    "        commute_distance = user['commute_distance'],\n",
    "        company = user['company'],\n",
    "        dependants = user['dependants'],\n",
    "        marital_status = user['marital_status'],\n",
    "        pension = user['pension'],\n",
    "        retired = user['retired'],\n",
    "        salary = user['salary'],\n",
    "        )\n",
    "    elif 'debt' in user.keys():\n",
    "        user_db = User(\n",
    "        first_name = user['firstName'],\n",
    "        second_name = user['lastName'],\n",
    "        age = user['age'],\n",
    "        iban = user['iban'],\n",
    "        credit_card_number = user['credit_card_number'],\n",
    "        credit_card_security_code = str(user['credit_card_security_code']),\n",
    "        credit_card_start_date = user['credit_card_start_date'],\n",
    "        credit_card_end_date = user['credit_card_end_date'],\n",
    "        address_main = user['address_main'],\n",
    "        address_city = user['address_city'],\n",
    "        address_postcode = user['address_postcode'],\n",
    "        debt = user['debt'],\n",
    "        Sex = user['Sex'],\n",
    "        Vehicle_Make = user['Vehicle Make'],\n",
    "        Vehicle_Model = user['Vehicle Model'],\n",
    "        Vehicle_Type = user['Vehicle Type'],\n",
    "        Vehicle_Year = user['Vehicle Year'],\n",
    "        commute_distance = user['commute_distance'],\n",
    "        company = user['company'],\n",
    "        dependants = user['dependants'],\n",
    "        marital_status = user['marital_status'],\n",
    "        pension = user['pension'],\n",
    "        retired = user['retired'],\n",
    "        salary = user['salary'],\n",
    "        )\n",
    "    else:\n",
    "        user_db = User(\n",
    "        first_name = user['firstName'],\n",
    "        second_name = user['lastName'],\n",
    "        age = user['age'],\n",
    "        iban = user['iban'],\n",
    "        credit_card_number = user['credit_card_number'],\n",
    "        credit_card_security_code = str(user['credit_card_security_code']),\n",
    "        credit_card_start_date = user['credit_card_start_date'],\n",
    "        credit_card_end_date = user['credit_card_end_date'],\n",
    "        address_main = user['address_main'],\n",
    "        address_city = user['address_city'],\n",
    "        address_postcode = user['address_postcode'],\n",
    "        Sex = user['Sex'],\n",
    "        Vehicle_Make = user['Vehicle Make'],\n",
    "        Vehicle_Model = user['Vehicle Model'],\n",
    "        Vehicle_Type = user['Vehicle Type'],\n",
    "        Vehicle_Year = user['Vehicle Year'],\n",
    "        commute_distance = user['commute_distance'],\n",
    "        company = user['company'],\n",
    "        dependants = user['dependants'],\n",
    "        marital_status = user['marital_status'],\n",
    "        pension = user['pension'],\n",
    "        retired = user['retired'],\n",
    "        salary = user['salary'],\n",
    "        )\n",
    "    commit()"
   ]
  },
  {
   "cell_type": "code",
   "execution_count": null,
   "id": "b89c10ad",
   "metadata": {},
   "outputs": [],
   "source": []
  }
 ],
 "metadata": {
  "kernelspec": {
   "display_name": "Python 3 (ipykernel)",
   "language": "python",
   "name": "python3"
  },
  "language_info": {
   "codemirror_mode": {
    "name": "ipython",
    "version": 3
   },
   "file_extension": ".py",
   "mimetype": "text/x-python",
   "name": "python",
   "nbconvert_exporter": "python",
   "pygments_lexer": "ipython3",
   "version": "3.8.13"
  }
 },
 "nbformat": 4,
 "nbformat_minor": 5
}
